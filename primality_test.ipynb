{
 "cells": [
  {
   "cell_type": "code",
   "execution_count": 5,
   "metadata": {},
   "outputs": [],
   "source": [
    "import random\n",
    "from gmpy import *\n",
    "import numpy as np\n",
    "import matplotlib.pyplot as plt\n",
    "import time\n",
    "import random\n",
    "from math import floor, sqrt\n",
    "from matplotlib.legend_handler import HandlerLine2D"
   ]
  },
  {
   "cell_type": "markdown",
   "metadata": {},
   "source": [
    "# <h2>Exercice 1 :Arithmétique dans Zn<h2>"
   ]
  },
  {
   "cell_type": "markdown",
   "metadata": {},
   "source": [
    "<strong>1.a] Fonction my_gcd qui prend des entiers a, b et retourne pgcd(a, b)</strong>"
   ]
  },
  {
   "cell_type": "code",
   "execution_count": 81,
   "metadata": {},
   "outputs": [],
   "source": [
    "def my_gcd(a, b):\n",
    "   \n",
    "    if b > a:\n",
    "        a, b = b, a\n",
    "    remainder = b\n",
    "    while remainder != 0:\n",
    "        remainder = a % b\n",
    "        a = b\n",
    "        b = remainder\n",
    "    return a"
   ]
  },
  {
   "cell_type": "markdown",
   "metadata": {},
   "source": [
    "<strong>1.b] Fonction my_inverse qui prend des entiers a, N et retourne b inverse de a modulo N</strong>"
   ]
  },
  {
   "cell_type": "code",
   "execution_count": 82,
   "metadata": {},
   "outputs": [],
   "source": [
    "def my_inverse(a, N):\n",
    "    if a < N:\n",
    "        u0 = 0\n",
    "        u1 = 1\n",
    "        b = a\n",
    "        a = N\n",
    "    else:\n",
    "        u0 = 1\n",
    "        u1 = 0\n",
    "        b = N\n",
    "    # after initializing properly a and b we apply extended Euclid algorithm on (a, b) and return u0 such that\n",
    "    # a*u0 is cogurent to 1 modulo b\n",
    "    remainder = b\n",
    "    while remainder != 0:\n",
    "        q = a // b\n",
    "        remainder = a - q * b\n",
    "        a = b\n",
    "        b = remainder\n",
    "        u2 = u0 - q * u1\n",
    "        u0 = u1\n",
    "        u1 = u2\n",
    "    if a != 1:\n",
    "        return \"error\"\n",
    "    return u0"
   ]
  },
  {
   "cell_type": "code",
   "execution_count": 55,
   "metadata": {},
   "outputs": [],
   "source": [
    "def complexity_test():\n",
    "    timing_gcd = []\n",
    "    timing_inverse = []\n",
    "    for i in range(2000):\n",
    "        # we discretize the interval to assure that we sample from all the ranges of bits\n",
    "        if i <= 500:\n",
    "            b1 = random.randint(4, 16)\n",
    "            b2 = random.randint(b1, 16) #  assure that N > a\n",
    "        elif (i > 500) and (i <= 1000):\n",
    "            b1 = random.randint(16, 32)\n",
    "            b2 = random.randint(b1, 32)\n",
    "        elif (i > 1000) and (i <= 1500):\n",
    "            b1 = random.randint(32, 64)\n",
    "            b2 = random.randint(b1, 64)\n",
    "        else:\n",
    "            b1 = random.randint(64, 128)\n",
    "            b2 = random.randint(b1, 128)\n",
    "        t_gcd_elapsed = 0\n",
    "        t_inverse_elapsed = 0\n",
    "        if i % 100 == 0:\n",
    "            print(i)\n",
    "        for j in range(3000):\n",
    "            a = 0\n",
    "            N = 0\n",
    "            while a == 0:\n",
    "                a = random.getrandbits(b1)\n",
    "\n",
    "            while N == 0 or N == a:  # avoid these cases as the running time will be instantaneous\n",
    "                N = random.getrandbits(b2)\n",
    "            t_gcd = time.time()\n",
    "            g = my_gcd(a, N)\n",
    "            t_gcd_elapsed += time.time() - t_gcd\n",
    "\n",
    "            t_inverse = time.time()\n",
    "            g2 = my_inverse(a, N)\n",
    "            t_inverse_elapsed += time.time() - t_inverse\n",
    "\n",
    "        timing_gcd.append([(b1 * b2) / 32, t_gcd_elapsed / 3000])\n",
    "        timing_inverse.append([(b1 * b2) / 32, t_inverse_elapsed / 3000])\n",
    "\n",
    "    T = np.array(sorted([t for t in timing_gcd if t[1] > 0])) # as we sample randomly, so b1 and b2 may not be in order\n",
    "    T2 = np.array(sorted([t for t in timing_inverse if t[1] > 0]))\n",
    "    plt.figure()\n",
    "    line2, = plt.plot(T[:, 0], T[:, 1], 'b', label='my_gcd(a, b)')\n",
    "    line1, = plt.plot(T2[:, 0], T2[:, 1], 'r', label='my_inverse(a, N)')\n",
    "    plt.title('Temps de calcul en fonction de taille binaire d'' entrée')\n",
    "    plt.ylabel('Temps (secondes)')\n",
    "    plt.xlabel('taille(a) * taille(b)')\n",
    "    plt.legend(handler_map={line2: HandlerLine2D()})\n",
    "\n",
    "    plt.show()"
   ]
  },
  {
   "cell_type": "code",
   "execution_count": 20,
   "metadata": {},
   "outputs": [
    {
     "name": "stdout",
     "output_type": "stream",
     "text": [
      "0\n",
      "100\n",
      "200\n",
      "300\n",
      "400\n",
      "500\n",
      "600\n",
      "700\n",
      "800\n",
      "900\n",
      "1000\n",
      "1100\n",
      "1200\n",
      "1300\n",
      "1400\n",
      "1500\n",
      "1600\n",
      "1700\n",
      "1800\n",
      "1900\n"
     ]
    },
    {
     "data": {
      "image/png": "[encoded data removed]",
      "text/plain": [
       "<matplotlib.figure.Figure at 0x7f2966586f98>"
      ]
     },
     "metadata": {},
     "output_type": "display_data"
    }
   ],
   "source": [
    "complexity_test()"
   ]
  },
  {
   "cell_type": "code",
   "execution_count": 43,
   "metadata": {},
   "outputs": [],
   "source": [
    "def my_expo_mod(x, y, n):\n",
    "    \"\"\"puissance modulaire: (x**y)%n avec x, y et n entiers\"\"\"\n",
    "    result = 1\n",
    "    while y>0:\n",
    "        if y&1>0:\n",
    "            result = (result*x)%n\n",
    "        y >>= 1\n",
    "        x = (x*x)%n\n",
    "    return result"
   ]
  },
  {
   "cell_type": "markdown",
   "metadata": {},
   "source": [
    "<h2> Exercice 2 :Test naı̈f et recherche des nombres de Carmichael</h2>"
   ]
  },
  {
   "cell_type": "markdown",
   "metadata": {},
   "source": [
    "<strong> 2.a] effectue le test naif de primalité sur un entier n.</strong>"
   ]
  },
  {
   "cell_type": "code",
   "execution_count": 83,
   "metadata": {},
   "outputs": [],
   "source": [
    "def first_test(n):\n",
    "    for k in range(2, int(floor(sqrt(n)) + 1)):\n",
    "        if n % k == 0:\n",
    "            return \"composite\"\n",
    "    return \"prime\""
   ]
  },
  {
   "cell_type": "markdown",
   "metadata": {},
   "source": [
    "<strong>2.b] Donner la complexité de votre algorithme.</strong>"
   ]
  },
  {
   "cell_type": "code",
   "execution_count": null,
   "metadata": {},
   "outputs": [],
   "source": []
  },
  {
   "cell_type": "markdown",
   "metadata": {},
   "source": [
    "<strong>2.c] Compte les nombres premiers inférieurs à 10^5 </strong>"
   ]
  },
  {
   "cell_type": "code",
   "execution_count": 36,
   "metadata": {},
   "outputs": [],
   "source": [
    "def count_prime_10e5():\n",
    "    cpt=0\n",
    "    i=2\n",
    "    while i<10**5:\n",
    "        if first_test(i)==\"prime\":\n",
    "            cpt+=1\n",
    "        i+=1\n",
    "    return cpt\n",
    "    \n"
   ]
  },
  {
   "cell_type": "markdown",
   "metadata": {},
   "source": [
    "<strong>2.d] Carmichael qui sont inférieurs à 10^5 </strong>"
   ]
  },
  {
   "cell_type": "code",
   "execution_count": 66,
   "metadata": {},
   "outputs": [],
   "source": [
    "def is_carmichael(n):\n",
    "    if first_test(n) == \"composite\":\n",
    "        a = 2\n",
    "        ok = 1\n",
    "        while a != n and ok == 1:\n",
    "            if my_gcd(n, a) == 1:\n",
    "                if my_expo_mod(a, n, n) != a:\n",
    "                    ok = 0\n",
    "            a += 1\n",
    "        if a == n and ok == 1:\n",
    "            return True\n",
    "    return False\n",
    "\n",
    "def gen_carmichael(n):\n",
    "    l = []\n",
    "    res = []\n",
    "    for i in range(2,n):\n",
    "        if is_carmichael(i):\n",
    "            l.append(i)\n",
    "    return l"
   ]
  },
  {
   "cell_type": "markdown",
   "metadata": {},
   "source": [
    "<strong>2.e] Carmichael de longueur binaire k avec 3 facteurs premiers </strong>"
   ]
  },
  {
   "cell_type": "code",
   "execution_count": 50,
   "metadata": {},
   "outputs": [],
   "source": [
    "def interval(n):\n",
    "    mini=[]\n",
    "    maxi=[]\n",
    "    for i in range(0,n):\n",
    "        mini.append(str(0))\n",
    "        maxi.append(str(1))\n",
    "    mini[0] =1  \n",
    "    deb=bin(int(''.join(map(str, mini)), 2) << 0)\n",
    "    fin=bin(int(''.join(map(str, maxi)), 2) << 0)\n",
    "    deb=int(deb,2)\n",
    "    fin=int(fin,2)\n",
    "    return [deb,fin]\n",
    "\n",
    "def carmichael_list(debut,fin, primes):\n",
    "    list_carmichael = []\n",
    "    possible_n = list(set(list(range(debut, fin, 1))) - set(primes))\n",
    "    list_carmichael = []\n",
    "    for n in possible_n:\n",
    "        if is_carmichael(n):\n",
    "            list_carmichael.append(n)\n",
    "    return list_carmichael"
   ]
  },
  {
   "cell_type": "code",
   "execution_count": 56,
   "metadata": {},
   "outputs": [],
   "source": [
    "def gen_carmichael_3(length):\n",
    "    debut,fin=interval(length)\n",
    "    list_carmichael_3_factors =[]\n",
    "    count_primes = 0\n",
    "    primes = []\n",
    "    for i in range(2, fin):\n",
    "        if first_test(i) == \"prime\":\n",
    "            count_primes += 1\n",
    "            primes.append(i)\n",
    "    list_carmichael = carmichael_list(debut,fin, primes)\n",
    "    \n",
    "    for carmichael_number in list_carmichael:\n",
    "        counter = 0\n",
    "        temp_number = carmichael_number\n",
    "        for p in primes:\n",
    "            if temp_number % p == 0:\n",
    "                temp_number = temp_number//p\n",
    "                counter += 1\n",
    "            if p > temp_number or counter == 3:\n",
    "                break\n",
    "        if counter == 3 and temp_number == 1:\n",
    "            list_carmichael_3_factors.append(carmichael_number)\n",
    "    return random.choice(list_carmichael_3_factors)"
   ]
  },
  {
   "cell_type": "markdown",
   "metadata": {},
   "source": [
    "<strong>2.f] Plus grand Carmichael trouvé qvec la fonction gen_carmichael </strong>"
   ]
  },
  {
   "cell_type": "code",
   "execution_count": 67,
   "metadata": {},
   "outputs": [
    {
     "data": {
      "text/plain": [
       "997633"
      ]
     },
     "execution_count": 67,
     "metadata": {},
     "output_type": "execute_result"
    }
   ],
   "source": [
    "gen_carmichael(10**6)[-1]"
   ]
  },
  {
   "cell_type": "markdown",
   "metadata": {},
   "source": [
    "<h2> Exercice 3 :Test de Fermat</h2>"
   ]
  },
  {
   "cell_type": "markdown",
   "metadata": {},
   "source": [
    "<strong>3.a] Test de primalité de Fermat </strong>"
   ]
  },
  {
   "cell_type": "code",
   "execution_count": 80,
   "metadata": {},
   "outputs": [],
   "source": [
    "def test_fermat(N):\n",
    "    a = random.randint(2,N-1)\n",
    "    if ((my_expo_mod(a,N-1,N) != 1)):\n",
    "        return N,'COMPOSITE'\n",
    "    return N,\"PROBABLY PRIME\""
   ]
  },
  {
   "cell_type": "markdown",
   "metadata": {},
   "source": [
    "<strong>3.b] Test de la fonction test_fermat </strong>"
   ]
  },
  {
   "cell_type": "code",
   "execution_count": 85,
   "metadata": {},
   "outputs": [],
   "source": [
    "def tester_fermat_test():\n",
    "    c_list = gen_carmichael(100000)\n",
    "    r_list = [random.randrange(2, 1.e8) for i in range(1000)]\n",
    "    com_list = [n for n in r_list if first_test(n) == 'composite']\n",
    "    for c in c_list:\n",
    "        print(test_fermat(c))\n",
    "    for r in r_list:\n",
    "        print(test_fermat(r))\n",
    "    for com in com_list:\n",
    "        print(test_fermat(com))"
   ]
  },
  {
   "cell_type": "markdown",
   "metadata": {},
   "source": [
    "<strong>3.c] Estimation de la probabilité d’erreur de test_fermat </strong>"
   ]
  },
  {
   "cell_type": "code",
   "execution_count": 84,
   "metadata": {},
   "outputs": [],
   "source": [
    "def fermat_test_success_probabilite(max_number):\n",
    "    list_proba = []\n",
    "    for k in range(2, 21):\n",
    "        total_count = 0\n",
    "        failure_count = 0\n",
    "        for n in range(5, max_number):\n",
    "            number, test = test_fermat(n)\n",
    "            if test == \"PROBABLY PRIME\":\n",
    "                total_count += 1\n",
    "                if first_test(number) == 'composite':\n",
    "                    failure_count += 1\n",
    "        list_proba.append(failure_count / total_count)\n",
    "\n",
    "    plt.plot(range(2, 21), list_proba)\n",
    "    plt.show()"
   ]
  },
  {
   "cell_type": "code",
   "execution_count": 87,
   "metadata": {},
   "outputs": [
    {
     "data": {
      "image/png": "[encoded data removed]",
      "text/plain": [
       "<matplotlib.figure.Figure at 0x7f2965151fd0>"
      ]
     },
     "metadata": {},
     "output_type": "display_data"
    }
   ],
   "source": [
    "fermat_test_success_probabilite(10000)"
   ]
  },
  {
   "cell_type": "markdown",
   "metadata": {},
   "source": [
    "<h2> Exercice 4 :Test de Rabin et Miller</h2>"
   ]
  },
  {
   "cell_type": "markdown",
   "metadata": {},
   "source": [
    "<strong>4.a] Test de primalité de Miller-Rabin </strong>"
   ]
  },
  {
   "cell_type": "code",
   "execution_count": 115,
   "metadata": {},
   "outputs": [],
   "source": [
    "def test_miller_rabin(N, T=5000):\n",
    "    if (N%2) == 0:\n",
    "        return N,'COMPOSITE'\n",
    "    m = N-1\n",
    "    h = 0\n",
    "    while (m%2) == 0:\n",
    "        m//=2\n",
    "        h+=1\n",
    "    \n",
    "    for i in range(T):\n",
    "        a = random.randint(2,N-1)\n",
    "        b = my_expo_mod(a,m,N)\n",
    "        \n",
    "        if b != 1 and b != (N-1):\n",
    "            \n",
    "            for j in range(h-1):\n",
    "                if b != (N-1) and my_expo_mod(b,2,N) == 1:\n",
    "                    return N,'COMPOSITE'\n",
    "                b = my_expo_mod(b,2,N)\n",
    "            \n",
    "            if b != (N-1):\n",
    "                return N,'COMPOSITE'\n",
    "    return N,'PRIME'"
   ]
  },
  {
   "cell_type": "markdown",
   "metadata": {},
   "source": [
    "<strong>4.b] Test de la fonction du test_miller_rabin </strong>"
   ]
  },
  {
   "cell_type": "code",
   "execution_count": 108,
   "metadata": {},
   "outputs": [],
   "source": [
    "def tester_millier_test():\n",
    "    c_list = gen_carmichael(100000)\n",
    "    r_list = [random.randrange(2, 1.e8) for i in range(1000)]\n",
    "    com_list = [n for n in r_list if first_test(n) == 'composite']\n",
    "    for c in c_list:\n",
    "        print(miller_rabin_test(c, 1))\n",
    "    # for r in r_list:\n",
    "    #     print(miller_rabin_test(c, 1))\n",
    "    # for com in com_list:\n",
    "    #     print(miller_rabin_test(c, 1))"
   ]
  },
  {
   "cell_type": "markdown",
   "metadata": {},
   "source": [
    "<strong>4.c] Estimation de la probabilité d’erreur de test_miller_rabin </strong>"
   ]
  },
  {
   "cell_type": "code",
   "execution_count": 113,
   "metadata": {},
   "outputs": [],
   "source": [
    "def miller_rabin_test_success_probabilite(max_number):\n",
    "    list_proba = []\n",
    "    for k in range(2, 21):\n",
    "        total_count = 0\n",
    "        failure_count = 0\n",
    "        for n in range(5, max_number):\n",
    "            number, test = test_miller_rabin(n)\n",
    "            if test == \"PRIME\":\n",
    "                total_count += 1\n",
    "                if first_test(number) == 'composite':\n",
    "                    failure_count += 1\n",
    "        list_proba.append(failure_count / total_count)\n",
    "\n",
    "    plt.plot(range(2, 21), list_proba)\n",
    "    plt.show()\n",
    "    "
   ]
  },
  {
   "cell_type": "markdown",
   "metadata": {},
   "source": [
    "<strong>4.d] Fonction gen_rsa </strong>"
   ]
  },
  {
   "cell_type": "code",
   "execution_count": 117,
   "metadata": {},
   "outputs": [],
   "source": [
    "def gen_rsa(t):\n",
    "    if t<3:\n",
    "        print('Entrer une valeur plus grande')\n",
    "        return 0 \n",
    "    l=[]\n",
    "    inf = int(pow(2,t-1))\n",
    "    sup = int(pow(2,t))\n",
    "    p=0\n",
    "    q=0\n",
    "    while(1):\n",
    "        i = random.randint(inf,sup)\n",
    "        if (test_miller_rabin(i)):\n",
    "            p = i\n",
    "            l.append(p)\n",
    "            break\n",
    "            \n",
    "    while(1):\n",
    "        j = random.randint(inf,sup)\n",
    "        if (test_miller_rabin(j)):\n",
    "            if j != p:\n",
    "                q = j\n",
    "                l.append(q)\n",
    "                break\n",
    "    return p*q"
   ]
  }
 ],
 "metadata": {
  "kernelspec": {
   "display_name": "Python 3",
   "language": "python",
   "name": "python3"
  },
  "language_info": {
   "codemirror_mode": {
    "name": "ipython",
    "version": 3
   },
   "file_extension": ".py",
   "mimetype": "text/x-python",
   "name": "python",
   "nbconvert_exporter": "python",
   "pygments_lexer": "ipython3",
   "version": "3.6.9"
  }
 },
 "nbformat": 4,
 "nbformat_minor": 2
}
