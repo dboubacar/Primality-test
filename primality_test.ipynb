{
 "cells": [
  {
   "cell_type": "code",
   "execution_count": 14,
   "metadata": {},
   "outputs": [],
   "source": [
    "import random\n",
    "from gmpy import *"
   ]
  },
  {
   "cell_type": "code",
   "execution_count": 13,
   "metadata": {},
   "outputs": [],
   "source": [
    "#Exercice 1 :Arithmétique dans Zn"
   ]
  },
  {
   "cell_type": "code",
   "execution_count": 2,
   "metadata": {},
   "outputs": [],
   "source": [
    "#pgcd de a et b\n",
    "def my_gcd(a, b):\n",
    "    return int(gcd(a,b))"
   ]
  },
  {
   "cell_type": "code",
   "execution_count": 15,
   "metadata": {},
   "outputs": [],
   "source": [
    "def egcd(a, b):\n",
    "    if a == 0:\n",
    "        return (b, 0, 1)\n",
    "    else:\n",
    "        g, y, x = egcd(b % a, a)\n",
    "        return (g, x - (b // a) * y, y)\n",
    "    \n",
    "def my_inverse(a,n):\n",
    "    g, x, y = egcd(a, n)\n",
    "    if g != 1:\n",
    "        print(\"l'inverse de a modulo n exsiste pas\")\n",
    "    else:\n",
    "        return x % n"
   ]
  },
  {
   "cell_type": "code",
   "execution_count": 16,
   "metadata": {},
   "outputs": [],
   "source": [
    "def my_expo_mod(x, y, n):\n",
    "    \"\"\"puissance modulaire: (x**y)%n avec x, y et n entiers\"\"\"\n",
    "    result = 1\n",
    "    while y>0:\n",
    "        if y&1>0:\n",
    "            result = (result*x)%n\n",
    "        y >>= 1\n",
    "        x = (x*x)%n\n",
    "    return result"
   ]
  },
  {
   "cell_type": "code",
   "execution_count": 12,
   "metadata": {},
   "outputs": [],
   "source": [
    "#Exercice 2 :Test naı̈f et recherche des nombres de Carmichael"
   ]
  },
  {
   "cell_type": "code",
   "execution_count": 29,
   "metadata": {},
   "outputs": [],
   "source": [
    "#2.a] effectue le test naif de primalité sur un entier n\n",
    "\n",
    "def first_test(n):\n",
    "    k=2\n",
    "    d=sqrt(n)\n",
    "    while k<=d:\n",
    "        if n%k == 0:\n",
    "            return 0\n",
    "        k+=1\n",
    "    return 1"
   ]
  },
  {
   "cell_type": "code",
   "execution_count": 42,
   "metadata": {},
   "outputs": [
    {
     "data": {
      "text/plain": [
       "6"
      ]
     },
     "execution_count": 42,
     "metadata": {},
     "output_type": "execute_result"
    }
   ],
   "source": [
    "#2.c] compte les nombres premiers inférieurs a n\n",
    "\n",
    "def count_prime_naif(n):\n",
    "    cpt=0\n",
    "    i=1\n",
    "    while i<n:\n",
    "        if first_test(i)==1:\n",
    "            cpt+=1\n",
    "        i+=1\n",
    "    return cpt\n",
    "    \n",
    "count_prime_naif(13)"
   ]
  },
  {
   "cell_type": "code",
   "execution_count": 50,
   "metadata": {},
   "outputs": [],
   "source": [
    "def isCarmichaelNumber(n) : \n",
    "    b = 2\n",
    "    while b<n : \n",
    "        if (gcd(b, n) == 1) : \n",
    "            if (pow(b, n - 1, n) != 1): \n",
    "                return 0\n",
    "        b = b + 1\n",
    "    return 1\n",
    "def listCarmichael():\n",
    "    n=1000\n",
    "    k=2\n",
    "    while k< n:\n",
    "        if(isCarmichaelNumber(k)==1):\n",
    "            print(k)\n",
    "        k+=1"
   ]
  },
  {
   "cell_type": "code",
   "execution_count": 54,
   "metadata": {},
   "outputs": [
    {
     "data": {
      "text/plain": [
       "1"
      ]
     },
     "execution_count": 54,
     "metadata": {},
     "output_type": "execute_result"
    }
   ],
   "source": [
    "#listCarmichael()\n",
    "isCarmichaelNumber(2465)"
   ]
  }
 ],
 "metadata": {
  "kernelspec": {
   "display_name": "Python 3",
   "language": "python",
   "name": "python3"
  },
  "language_info": {
   "codemirror_mode": {
    "name": "ipython",
    "version": 3
   },
   "file_extension": ".py",
   "mimetype": "text/x-python",
   "name": "python",
   "nbconvert_exporter": "python",
   "pygments_lexer": "ipython3",
   "version": "3.6.9"
  }
 },
 "nbformat": 4,
 "nbformat_minor": 2
}
